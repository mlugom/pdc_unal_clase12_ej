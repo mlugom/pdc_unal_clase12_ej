{
 "cells": [
  {
   "cell_type": "markdown",
   "metadata": {},
   "source": [
    "**Ejercicio 1:** Cree una función que permita calcular el Máximo Comun Divisor de dos números dados (a y b)"
   ]
  },
  {
   "cell_type": "code",
   "execution_count": 10,
   "metadata": {},
   "outputs": [
    {
     "name": "stdout",
     "output_type": "stream",
     "text": [
      "10\n"
     ]
    }
   ],
   "source": [
    "def calcularMCDWhile(a: int, b: int) -> int:\n",
    "    if a > b:\n",
    "        dividendo = a\n",
    "        divisor = b\n",
    "    else:\n",
    "        dividendo = b\n",
    "        divisor = a\n",
    "\n",
    "    seguirIterando = True\n",
    "    while seguirIterando:\n",
    "        residuo = dividendo % divisor\n",
    "        divisorAnterior = divisor\n",
    "\n",
    "        dividendo, divisor = divisor, residuo\n",
    "\n",
    "        seguirIterando = residuo != 0\n",
    "\n",
    "    return divisorAnterior\n",
    "\n",
    "mcd = calcularMCDWhile(40, 50)\n",
    "print(mcd)"
   ]
  },
  {
   "cell_type": "markdown",
   "metadata": {},
   "source": [
    "De forma recursiva:"
   ]
  },
  {
   "cell_type": "code",
   "execution_count": 12,
   "metadata": {},
   "outputs": [
    {
     "name": "stdout",
     "output_type": "stream",
     "text": [
      "9\n"
     ]
    }
   ],
   "source": [
    "def MCDRecursivo(a: int, b: int) -> int:\n",
    "    dividendo: int = a if a > b else b\n",
    "    divisor: int = b if a > b else a\n",
    "\n",
    "    residuo = dividendo % divisor\n",
    "\n",
    "    if residuo == 0:\n",
    "        return divisor\n",
    "    else:\n",
    "        nuevoDividendo = divisor\n",
    "        nuevoDivisor = residuo\n",
    "        return MCDRecursivo(nuevoDividendo, nuevoDivisor)\n",
    "    \n",
    "mcd = MCDRecursivo(27, 18)\n",
    "print(mcd)"
   ]
  },
  {
   "cell_type": "markdown",
   "metadata": {},
   "source": [
    "**Ejercicio 2:** Cree una función anónima que calcule\n",
    "\n",
    "$$ f(x) = \\frac{x}{x^{1/3} - 1} $$"
   ]
  },
  {
   "cell_type": "code",
   "execution_count": 1,
   "metadata": {},
   "outputs": [
    {
     "name": "stdout",
     "output_type": "stream",
     "text": [
      "La función en 3 retorna 6.78350009003897\n"
     ]
    }
   ],
   "source": [
    "funcion = lambda x: x/(x**(1/3) - 1)\n",
    "\n",
    "\n",
    "x: int = int(input(\"Ingrese un número real: \"))\n",
    "\n",
    "f_x = funcion(x)\n",
    "\n",
    "print(f'La función en {x} retorna {f_x}')"
   ]
  },
  {
   "cell_type": "markdown",
   "metadata": {},
   "source": [
    "**Ejercicio 3:** Cree una función que reciba dos números y un parámetro con el cual se decida si regresa el mayor o el menor. Si no se ingresa el parámetro, por defecto se debe regresar el mayor"
   ]
  },
  {
   "cell_type": "code",
   "execution_count": 2,
   "metadata": {},
   "outputs": [
    {
     "name": "stdout",
     "output_type": "stream",
     "text": [
      "El mayor es 5 y el menor es 4\n"
     ]
    }
   ],
   "source": [
    "def decidirEntreDosNumeros(a: int, b: int, retornarElMayor: bool = True) -> int:\n",
    "    numeroMayor: int\n",
    "    numeroMenor: int\n",
    "\n",
    "    if a < b:\n",
    "        numeroMayor = b\n",
    "        numeroMenor = a\n",
    "    else:\n",
    "        numeroMayor = a\n",
    "        numeroMenor = b\n",
    "\n",
    "    if retornarElMayor:\n",
    "        return numeroMayor\n",
    "    else:\n",
    "        return numeroMenor\n",
    "    \n",
    "a = int(input(\"Ingrese el primer número: \"))\n",
    "b = int(input(\"Ingrese el segundo número: \"))\n",
    "\n",
    "numeroMayor = decidirEntreDosNumeros(a, b)\n",
    "numeroMenor = decidirEntreDosNumeros(a, b, False)\n",
    "\n",
    "print(f'El mayor es {numeroMayor} y el menor es {numeroMenor}')"
   ]
  },
  {
   "cell_type": "code",
   "execution_count": null,
   "metadata": {},
   "outputs": [],
   "source": []
  }
 ],
 "metadata": {
  "kernelspec": {
   "display_name": "Python 3",
   "language": "python",
   "name": "python3"
  },
  "language_info": {
   "codemirror_mode": {
    "name": "ipython",
    "version": 3
   },
   "file_extension": ".py",
   "mimetype": "text/x-python",
   "name": "python",
   "nbconvert_exporter": "python",
   "pygments_lexer": "ipython3",
   "version": "3.10.12"
  }
 },
 "nbformat": 4,
 "nbformat_minor": 2
}
