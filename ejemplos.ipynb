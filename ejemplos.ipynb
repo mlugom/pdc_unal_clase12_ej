{
 "cells": [
  {
   "cell_type": "markdown",
   "metadata": {},
   "source": [
    "**Ejemplo 1:** Factorial. Crear un programa que permita calcular el factorial de un número n entero positivo dado\n",
    "\n",
    "$$ n! = \\left\\{ \\begin{matrix} \n",
    "1\\times 2\\times 3\\times ... \\times (n-1) \\times n & si & n > 0 \\\\\n",
    "1 & si & n = 0\n",
    "\\end{matrix}\\right.$$"
   ]
  },
  {
   "cell_type": "code",
   "execution_count": null,
   "metadata": {},
   "outputs": [],
   "source": [
    "def factorial(n: int) -> int:\n",
    "    fact: int = 1\n",
    "    for i in range(1, n+1):\n",
    "        fact *= i\n",
    "    \n",
    "    return fact\n",
    "\n",
    "n: int = int(input(\"Ingrese n: \"))\n",
    "\n",
    "fact: int = factorial(n)\n",
    "print(fact)"
   ]
  },
  {
   "cell_type": "markdown",
   "metadata": {},
   "source": [
    "Consideremos la siguiente manipulación de la función *factorial*\n",
    "$$ n! = 1 \\times 2 \\times 3 \\times ... \\times (n-1) \\times n \\\\\n",
    "= \\left(1 \\times 2 \\times 3 \\times ... \\times (n-2) \\times (n-1) \\right) \\times n \\\\\n",
    "= (n-1)! \\times n$$\n",
    "\n",
    "$$ (n-1)! = 1 \\times 2 \\times 3 \\times ... \\times (n-2) \\times (n-1) \\\\\n",
    "= \\left(1 \\times 2 \\times 3 \\times ... \\times (n-3) \\times (n-2)\\right) \\times (n-1)\\\\\n",
    "= (n-2)! \\times (n-1)$$\n",
    "\n",
    "Eventualmente...\n",
    "\n",
    "$$ 1! = 0! \\times 1\\\\\n",
    "\\\\\n",
    "0! = 1$$"
   ]
  },
  {
   "cell_type": "code",
   "execution_count": null,
   "metadata": {},
   "outputs": [],
   "source": [
    "def factorialRecursivo(n: int) -> int:\n",
    "    # Caso base\n",
    "    if n == 0:\n",
    "        return 1\n",
    "    else:\n",
    "        # Recursión\n",
    "        return n*factorialRecursivo(n - 1)\n",
    "    \n",
    "n: int = int(input(\"Ingrese n: \"))\n",
    "\n",
    "fact: int = factorialRecursivo(n)\n",
    "\n",
    "print(f'El factorial de {n} es {fact}')"
   ]
  },
  {
   "cell_type": "markdown",
   "metadata": {},
   "source": [
    "**Ejemplo 2:** Fibonacci. Crear un programa que permita calcular la sucesión de Fibonacci hasta n elementos\n",
    "\n",
    "$$ Fibonacci:\\ \\{a_n\\} = 1,1,2,3,5,8,13...$$\n",
    "\n",
    "$$\n",
    "a_n = \\left\\{\\begin{matrix}\n",
    "    1 & si & n = 1 \\\\\n",
    "    1 & si & n = 2 \\\\\n",
    "    a_{n-2} + a_{n-1} & si & n > 2\n",
    "\\end{matrix}\\right.$$"
   ]
  },
  {
   "cell_type": "code",
   "execution_count": null,
   "metadata": {},
   "outputs": [],
   "source": [
    "def fibonacci(n: int) -> int:\n",
    "    i: int = 1\n",
    "\n",
    "    n1: int\n",
    "    n2: int\n",
    "\n",
    "    while i <= n:\n",
    "        if i == 1:\n",
    "            sumFibo = 1\n",
    "            n1 = 1\n",
    "        elif i == 2:\n",
    "            sumFibo = 1\n",
    "            n2 = 1\n",
    "        else:\n",
    "            sumFibo = n1 + n2\n",
    "            n1 = n2\n",
    "            n2 = sumFibo\n",
    "        \n",
    "        i += 1\n",
    "        print(sumFibo)\n",
    "\n",
    "    return sumFibo\n",
    "\n",
    "num = int(input(\"Ingrese número de elementos de la sucesión de Fibonacci: \"))\n",
    "sucesionFibo = fibonacci(num)\n",
    "print(f\"La sucesión de Fibonacci hasta {num} es {sucesionFibo}\")"
   ]
  },
  {
   "cell_type": "code",
   "execution_count": null,
   "metadata": {},
   "outputs": [],
   "source": [
    "def fibonacciRecursivo(n: int) -> int:\n",
    "    if n == 1 or n == 2:\n",
    "        return 1\n",
    "    else:\n",
    "        return fibonacciRecursivo(n-2) + fibonacciRecursivo(n-1)\n",
    "\n",
    "\n",
    "num = int(input(\"Ingrese número de elementos de la sucesión de Fibonacci: \"))\n",
    "sucesionFibo = fibonacciRecursivo(num)\n",
    "print(f\"La sucesión de Fibonacci hasta {num} es {sucesionFibo}\")"
   ]
  },
  {
   "cell_type": "markdown",
   "metadata": {},
   "source": [
    "Si quisiéramos la sucesión completa"
   ]
  },
  {
   "cell_type": "markdown",
   "metadata": {},
   "source": [
    "Combinando ciclos con recursividad"
   ]
  },
  {
   "cell_type": "code",
   "execution_count": null,
   "metadata": {},
   "outputs": [],
   "source": [
    "def calcularElementoDeFibonacci(n: int) -> int:\n",
    "    if n == 1 or n == 2:\n",
    "        return 1\n",
    "    else:\n",
    "        return fibonacciRecursivo(n-2) + fibonacciRecursivo(n-1)\n",
    "    \n",
    "num: int = int(input(\"Ingrese número de elementos de la sucesión de Fibonacci: \"))\n",
    "\n",
    "for i in range(1, num+1):\n",
    "    elementoFibo = calcularElementoDeFibonacci(i)\n",
    "    print(elementoFibo)\n",
    "\n"
   ]
  },
  {
   "cell_type": "markdown",
   "metadata": {},
   "source": [
    "Hay formas más chimbitas de resolver el problema, pero si se las muestro ahora, sé que los voy a confundir. Las veremos la próxima clase."
   ]
  },
  {
   "cell_type": "markdown",
   "metadata": {},
   "source": [
    "**Ejemplo 3:** Función para sumar dos números"
   ]
  },
  {
   "cell_type": "code",
   "execution_count": null,
   "metadata": {},
   "outputs": [],
   "source": [
    "def sumarDosNumeros(a: int, b: int) -> int:\n",
    "    return a + b\n",
    "\n",
    "a: int = int(input(\"Ingrese el primer número: \"))\n",
    "b: int = int(input(\"Ingrese el segundo número: \"))\n",
    "\n",
    "suma = sumarDosNumeros(a, b)\n",
    "\n",
    "print(f'La suma de {a} + {b} es {suma}')"
   ]
  },
  {
   "cell_type": "code",
   "execution_count": null,
   "metadata": {},
   "outputs": [],
   "source": [
    "a: int = int(input(\"Ingrese el primer número: \"))\n",
    "b: int = int(input(\"Ingrese el segundo número: \"))\n",
    "\n",
    "sumarDosNumeros = lambda a, b: a + b\n",
    "\n",
    "suma = sumarDosNumeros(a, b)\n",
    "\n",
    "print(f'La suma de {a} + {b} es {suma}')"
   ]
  },
  {
   "cell_type": "code",
   "execution_count": null,
   "metadata": {},
   "outputs": [],
   "source": [
    "a: int = int(input(\"Ingrese el primer número: \"))\n",
    "b: int = int(input(\"Ingrese el segundo número: \"))\n",
    "\n",
    "suma = (lambda a, b: a + b)(a, b)\n",
    "\n",
    "print(f'La suma de {a} + {b} es {suma}')"
   ]
  },
  {
   "cell_type": "markdown",
   "metadata": {},
   "source": [
    "**Ejemplo 4:** Función para sumar dos números con un argumento por defecto"
   ]
  },
  {
   "cell_type": "code",
   "execution_count": null,
   "metadata": {},
   "outputs": [],
   "source": [
    "def sumarDosNumeros(a: int, b: int = 10) -> int:\n",
    "    return a + b\n",
    "\n",
    "a = int(input(\"Ingrese a: \"))\n",
    "b = int(input(\"Ingrese b: \"))\n",
    "\n",
    "suma1 = sumarDosNumeros(a)\n",
    "print(f'La suma de {a} con 10 es igual a {suma1}')"
   ]
  },
  {
   "cell_type": "code",
   "execution_count": null,
   "metadata": {},
   "outputs": [],
   "source": [
    "suma2 = sumarDosNumeros(a, b)\n",
    "\n",
    "print(f'La suma de {a} con {b} es igual a {suma2}')"
   ]
  },
  {
   "cell_type": "markdown",
   "metadata": {},
   "source": [
    "#### Motivación *args"
   ]
  },
  {
   "cell_type": "code",
   "execution_count": null,
   "metadata": {},
   "outputs": [],
   "source": [
    "def sumarNumeros(n1: int, n2: int) -> int:\n",
    "    return n1 + n2\n",
    "\n",
    "print(sumarNumeros(1,2))"
   ]
  },
  {
   "cell_type": "markdown",
   "metadata": {},
   "source": [
    "**Ejemplo 5:** Función para sumar n números"
   ]
  },
  {
   "cell_type": "code",
   "execution_count": null,
   "metadata": {},
   "outputs": [],
   "source": [
    "def sumarNumeros(*args) -> int:\n",
    "    suma: int = 0\n",
    "\n",
    "    for numero in args:\n",
    "        suma += numero\n",
    "\n",
    "    return suma\n",
    "\n",
    "a: int = 1\n",
    "b: int = 2\n",
    "c: int = 3\n",
    "d: int = 4\n",
    "e: int = 5\n",
    "\n",
    "print(sumarNumeros(a,b))\n",
    "print(sumarNumeros(a,b,c,d))\n",
    "print(sumarNumeros(a,e))\n",
    "print(sumarNumeros(a,b,c,d,e))"
   ]
  },
  {
   "cell_type": "markdown",
   "metadata": {},
   "source": [
    "**Ejemplo EXTRA:** Uso de **kwargs"
   ]
  },
  {
   "cell_type": "code",
   "execution_count": null,
   "metadata": {},
   "outputs": [],
   "source": [
    "def imprimirArgumentoEspecifico(**kwargs):\n",
    "    argumento = kwargs['nombre']\n",
    "\n",
    "    print(argumento)\n",
    "\n",
    "nombre: str = \"Evaristo\"\n",
    "apellido: str = \"Machado\"\n",
    "\n",
    "imprimirArgumentoEspecifico(nombre=nombre, apellido=apellido)"
   ]
  },
  {
   "cell_type": "code",
   "execution_count": null,
   "metadata": {},
   "outputs": [],
   "source": []
  }
 ],
 "metadata": {
  "kernelspec": {
   "display_name": "Python 3",
   "language": "python",
   "name": "python3"
  },
  "language_info": {
   "codemirror_mode": {
    "name": "ipython",
    "version": 3
   },
   "file_extension": ".py",
   "mimetype": "text/x-python",
   "name": "python",
   "nbconvert_exporter": "python",
   "pygments_lexer": "ipython3",
   "version": "3.10.8"
  }
 },
 "nbformat": 4,
 "nbformat_minor": 2
}
