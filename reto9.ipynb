{
 "cells": [
  {
   "cell_type": "markdown",
   "metadata": {},
   "source": [
    "9. Función recursiva para calcular potencia"
   ]
  },
  {
   "cell_type": "markdown",
   "metadata": {},
   "source": [
    "Deducción:\n",
    "\n",
    "$$ x^n = \\prod_{i=1}^n x $$ \n",
    "\n",
    "$$ x^n = x^{n-1} \\times x $$\n",
    "\n",
    "$$ x^{n-1} = x^{n-2} \\times x $$\n",
    "\n",
    "Eventualmente...\n",
    "\n",
    "$$ x^1 = x^0 \\times x $$\n",
    "\n",
    "$$ x^0 = 1 $$"
   ]
  },
  {
   "cell_type": "code",
   "execution_count": 2,
   "metadata": {},
   "outputs": [
    {
     "name": "stdout",
     "output_type": "stream",
     "text": [
      "256\n"
     ]
    }
   ],
   "source": [
    "def potenciaRecursiva(x: int, n: int) -> int:\n",
    "    if n == 0:\n",
    "        return 1\n",
    "    else:\n",
    "        return potenciaRecursiva(x, n-1)*x\n",
    "\n",
    "x = 2\n",
    "n = 8\n",
    "\n",
    "print(potenciaRecursiva(x, n))"
   ]
  },
  {
   "cell_type": "code",
   "execution_count": null,
   "metadata": {},
   "outputs": [],
   "source": []
  }
 ],
 "metadata": {
  "kernelspec": {
   "display_name": "Python 3",
   "language": "python",
   "name": "python3"
  },
  "language_info": {
   "codemirror_mode": {
    "name": "ipython",
    "version": 3
   },
   "file_extension": ".py",
   "mimetype": "text/x-python",
   "name": "python",
   "nbconvert_exporter": "python",
   "pygments_lexer": "ipython3",
   "version": "3.10.12"
  }
 },
 "nbformat": 4,
 "nbformat_minor": 2
}
